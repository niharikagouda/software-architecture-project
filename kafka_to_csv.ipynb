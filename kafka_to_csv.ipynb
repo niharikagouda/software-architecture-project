{
 "cells": [
  {
   "cell_type": "code",
   "execution_count": null,
   "metadata": {},
   "outputs": [],
   "source": [
    "from kafka import KafkaProducer\n",
    "from kafka.errors import KafkaError\n",
    "from kafka import KafkaConsumer\n",
    "import csv"
   ]
  },
  {
   "cell_type": "code",
   "execution_count": null,
   "metadata": {},
   "outputs": [],
   "source": [
    "consumer = KafkaConsumer('data',\n",
    "                         group_id='0',\n",
    "                         bootstrap_servers=['localhost:9092'])"
   ]
  },
  {
   "cell_type": "code",
   "execution_count": null,
   "metadata": {},
   "outputs": [],
   "source": [
    "flag=0\n",
    "while True:\n",
    "    print(flag)\n",
    "    counter=0\n",
    "    file= open('csv_directory/Data'+str(flag)+'.csv', 'w', newline='')\n",
    "    writer = csv.writer(file)\n",
    "    writer.writerow([\"Column1\", \"Column2\", \"Column3\", \"Column4\", \"Column5\", \"Column6\", \"Column7\", \"Column8\", \"Column9\", \"Column10\", \"Column11\", \"Column12\", \"Column13\", \"Column14\"])\n",
    "    consumer = KafkaConsumer('data')\n",
    "    for msg in consumer:\n",
    "        if counter <= 80:\n",
    "            array=[]\n",
    "            for x in  range(1,14):\n",
    "                array.append(msg[6].decode('utf-8').split(' ')[x])\n",
    "            array.append(msg[6].decode('utf-8').split(' ')[14][0])\n",
    "#             print(msg[6].decode('utf-8').split(' ')[14][0])\n",
    "            writer.writerow(array)\n",
    "            counter = counter+1\n",
    "        else:\n",
    "            array=[]\n",
    "            for x in  range(1,14):\n",
    "                array.append(msg[6].decode('utf-8').split(' ')[x])\n",
    "            array.append(msg[6].decode('utf-8').split(' ')[14][0])\n",
    "#             print(msg[6].decode('utf-8').split(' ')[14][0])\n",
    "            writer.writerow(array)\n",
    "            counter = counter+1\n",
    "        if counter==80:\n",
    "            flag=flag+1\n",
    "            counter=0\n",
    "            file.close()\n",
    "            break;\n",
    "            "
   ]
  },
  {
   "cell_type": "code",
   "execution_count": null,
   "metadata": {},
   "outputs": [],
   "source": []
  }
 ],
 "metadata": {
  "kernelspec": {
   "display_name": "Python 3",
   "language": "python",
   "name": "python3"
  },
  "language_info": {
   "codemirror_mode": {
    "name": "ipython",
    "version": 3
   },
   "file_extension": ".py",
   "mimetype": "text/x-python",
   "name": "python",
   "nbconvert_exporter": "python",
   "pygments_lexer": "ipython3",
   "version": "3.7.4"
  }
 },
 "nbformat": 4,
 "nbformat_minor": 2
}
