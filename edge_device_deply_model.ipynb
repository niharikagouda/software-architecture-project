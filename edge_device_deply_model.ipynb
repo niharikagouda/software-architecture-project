{
 "cells": [
  {
   "cell_type": "code",
   "execution_count": null,
   "metadata": {},
   "outputs": [],
   "source": [
    "from kafka import KafkaProducer\n",
    "from kafka.errors import KafkaError\n",
    "from kafka import KafkaConsumer\n",
    "from joblib import dump, load\n",
    "import pandas as pd\n",
    "from sklearn.model_selection import train_test_split\n",
    "from xgboost import XGBClassifier\n",
    "from sklearn.metrics import roc_auc_score\n",
    "from sklearn import preprocessing"
   ]
  },
  {
   "cell_type": "code",
   "execution_count": null,
   "metadata": {},
   "outputs": [],
   "source": [
    "def deploy_model(model_name):\n",
    "    prediction_model = load(model_name)"
   ]
  },
  {
   "cell_type": "code",
   "execution_count": null,
   "metadata": {},
   "outputs": [],
   "source": [
    "def predict_medical_status(patient_data):\n",
    "    numpy_patient_data = pd.DataFrame({\"Column1\":[patient_data[0]],\"Column2\":[patient_data[1]],\"Column3\":[patient_data[2]],\"Column4\":[patient_data[3]],\n",
    "                        \"Column5\":[patient_data[4]],\"Column6\":[patient_data[5]],\"Column7\":[patient_data[6]],\"Column8\":[patient_data[7]],\n",
    "                        \"Column9\":[patient_data[8]],\"Column10\":[patient_data[9]],\"Column11\":[patient_data[10]],\"Column13\":[patient_data[11]]})\n",
    "    print(prediction_model.predict(numpy_patient_data))"
   ]
  },
  {
   "cell_type": "code",
   "execution_count": null,
   "metadata": {},
   "outputs": [],
   "source": [
    "prediction_model=load(\"./trained_models/model0.joblib\")\n",
    "consumer = KafkaConsumer('trained_model',\n",
    "                         group_id='my-group',\n",
    "                         bootstrap_servers=['localhost:9092'])"
   ]
  },
  {
   "cell_type": "code",
   "execution_count": null,
   "metadata": {},
   "outputs": [],
   "source": [
    "for message in consumer:\n",
    "    print(message) \n",
    "    print(message[6].decode('utf-8')) \n",
    "    timestamp = message[3]\n",
    "    model_name= message[6].decode('utf-8')\n",
    "    deploy_model(model_name)"
   ]
  },
  {
   "cell_type": "code",
   "execution_count": null,
   "metadata": {
    "scrolled": false
   },
   "outputs": [],
   "source": [
    "predict_medical_status([67,1,4,160,286,0,2,108,1,1.5,2,3])"
   ]
  },
  {
   "cell_type": "code",
   "execution_count": null,
   "metadata": {},
   "outputs": [],
   "source": [
    "prediction_model=load(\"./trained_models/model0.joblib\")"
   ]
  },
  {
   "cell_type": "code",
   "execution_count": null,
   "metadata": {
    "scrolled": true
   },
   "outputs": [],
   "source": [
    "prediction_model.predict(x)"
   ]
  },
  {
   "cell_type": "code",
   "execution_count": null,
   "metadata": {},
   "outputs": [],
   "source": [
    "prediction_model = load(prediction_model)"
   ]
  },
  {
   "cell_type": "code",
   "execution_count": null,
   "metadata": {},
   "outputs": [],
   "source": []
  }
 ],
 "metadata": {
  "kernelspec": {
   "display_name": "Python 3",
   "language": "python",
   "name": "python3"
  },
  "language_info": {
   "codemirror_mode": {
    "name": "ipython",
    "version": 3
   },
   "file_extension": ".py",
   "mimetype": "text/x-python",
   "name": "python",
   "nbconvert_exporter": "python",
   "pygments_lexer": "ipython3",
   "version": "3.7.4"
  }
 },
 "nbformat": 4,
 "nbformat_minor": 2
}
