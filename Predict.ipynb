{
 "cells": [
  {
   "cell_type": "code",
   "execution_count": null,
   "metadata": {},
   "outputs": [],
   "source": [
    "# import pandas\n",
    "import pandas as pd\n",
    "from sklearn.model_selection import train_test_split\n",
    "from xgboost import XGBClassifier\n",
    "from sklearn.metrics import roc_auc_score\n",
    "from sklearn import preprocessing\n",
    "from sklearn import tree\n",
    "from kafka import KafkaProducer\n",
    "from kafka.errors import KafkaError\n",
    "from joblib import dump, load\n",
    "import numpy as np\n",
    "counter=0"
   ]
  },
  {
   "cell_type": "code",
   "execution_count": null,
   "metadata": {},
   "outputs": [],
   "source": [
    "\n",
    "df = pd.read_csv('./csv_directory/Data'+str(counter)+'.csv')\n",
    "df.head()\n",
    "print(df.shape)\n",
    "df.replace(to_replace = 7.0, \n",
    "                 value =3.0)\n",
    "df.astype({'Column13': 'float'}).dtypes\n",
    "# df.astype({'Column12': 'float'}).dtypes\n",
    "num_of_classes = len(df.Column14.unique())\n",
    "print(num_of_classes)\n"
   ]
  },
  {
   "cell_type": "code",
   "execution_count": null,
   "metadata": {},
   "outputs": [],
   "source": [
    "# split train input and output data\n",
    "X = df.drop(axis=0, columns=['Column12','Column14'])\n",
    "Y = df.Column14\n",
    "\n",
    "#Print the shape of X and Y\n",
    "print(X.shape)\n",
    "print(Y.shape)"
   ]
  },
  {
   "cell_type": "code",
   "execution_count": null,
   "metadata": {},
   "outputs": [],
   "source": [
    "# Split into training and test sets\n",
    "X_train, X_test, y_train, y_test = train_test_split(X, Y, test_size=0.30, random_state=42)\n",
    "\n",
    "# Create a classifier\n",
    "xgb = XGBClassifier(booster='gbtree', objective='multi:softprob', random_state=42, eval_metric=\"auc\", num_class=num_of_classes)\n",
    "\n",
    "# Fit the classifier with the training data\n",
    "xgb.fit(X_train,y_train)"
   ]
  },
  {
   "cell_type": "code",
   "execution_count": null,
   "metadata": {},
   "outputs": [],
   "source": [
    "# Use trained model to predict output of test dataset\n",
    "val = xgb.predict(X_test)\n",
    "\n",
    "lb = preprocessing.LabelBinarizer()\n",
    "lb.fit(y_test)\n",
    "\n",
    "y_test_lb = lb.transform(y_test)\n",
    "val_lb = lb.transform(val)\n",
    "\n",
    "roc_auc_score(y_test_lb, val_lb, average='macro')"
   ]
  },
  {
   "cell_type": "code",
   "execution_count": null,
   "metadata": {},
   "outputs": [],
   "source": [
    "dump(xgb, './trained_models/model'+str(counter)+'.joblib') \n",
    "producer = KafkaProducer(bootstrap_servers=['localhost:9092'])\n",
    "producer.send('trained_model',  bytearray('./trained_models/model'+str(counter)+'.joblib', 'utf-8'))\n",
    "counter+=1"
   ]
  },
  {
   "cell_type": "code",
   "execution_count": null,
   "metadata": {},
   "outputs": [],
   "source": []
  }
 ],
 "metadata": {
  "kernelspec": {
   "display_name": "Python 3",
   "language": "python",
   "name": "python3"
  },
  "language_info": {
   "codemirror_mode": {
    "name": "ipython",
    "version": 3
   },
   "file_extension": ".py",
   "mimetype": "text/x-python",
   "name": "python",
   "nbconvert_exporter": "python",
   "pygments_lexer": "ipython3",
   "version": "3.7.4"
  }
 },
 "nbformat": 4,
 "nbformat_minor": 2
}
