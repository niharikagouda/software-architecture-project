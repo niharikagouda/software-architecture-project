{
 "cells": [
  {
   "cell_type": "code",
   "execution_count": null,
   "metadata": {},
   "outputs": [],
   "source": [
    "from kafka import KafkaProducer\n",
    "from kafka.errors import KafkaError\n",
    "from kafka import KafkaConsumer\n",
    "import numpy as np"
   ]
  },
  {
   "cell_type": "code",
   "execution_count": null,
   "metadata": {},
   "outputs": [],
   "source": [
    "producer = KafkaProducer(bootstrap_servers=['localhost:9092'])"
   ]
  },
  {
   "cell_type": "code",
   "execution_count": null,
   "metadata": {},
   "outputs": [],
   "source": [
    "file_object  = open(\"processed.cleveland.data\", \"r\")\n",
    "accumulate=\"\"\n",
    "tag=0\n",
    "for line in file_object:\n",
    "    for value in line.split(','):\n",
    "            accumulate=accumulate + \" \" + value\n",
    "    print(accumulate)\n",
    "    producer.send('data',  bytearray(accumulate, 'utf-8'),key=bytearray(str(tag), 'utf-8'))\n",
    "    \n",
    "    accumulate=\"\"\n",
    "    tag+=1\n",
    "    producer.flush()"
   ]
  },
  {
   "cell_type": "code",
   "execution_count": null,
   "metadata": {},
   "outputs": [],
   "source": [
    "# file_object  = open(\"processed.cleveland.data\", \"r\")\n",
    "# accumulate=\"\"\n",
    "# tag=0\n",
    "# for line in file_object:\n",
    "#     counter=0\n",
    "#     for value in line.split(','):\n",
    "#         if counter == 13:\n",
    "#             print(\"the predicted value is : \"+ value)\n",
    "#             producer.send('prediction', bytearray(value, 'utf-8'),key=bytearray(str(tag), 'utf-8'))\n",
    "#         else:    \n",
    "#             accumulate=accumulate + \" \" + value\n",
    "#             counter+=1\n",
    "#     producer.send('data',  bytearray(accumulate, 'utf-8'),key=bytearray(str(tag), 'utf-8'))\n",
    "#     accumulate=\"\"\n",
    "#     tag+=1\n",
    "#     producer.flush()"
   ]
  }
 ],
 "metadata": {
  "kernelspec": {
   "display_name": "Python 3",
   "language": "python",
   "name": "python3"
  },
  "language_info": {
   "codemirror_mode": {
    "name": "ipython",
    "version": 3
   },
   "file_extension": ".py",
   "mimetype": "text/x-python",
   "name": "python",
   "nbconvert_exporter": "python",
   "pygments_lexer": "ipython3",
   "version": "3.7.6"
  }
 },
 "nbformat": 4,
 "nbformat_minor": 2
}
