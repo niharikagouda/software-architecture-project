{
 "cells": [
  {
   "cell_type": "code",
   "execution_count": 4,
   "metadata": {},
   "outputs": [],
   "source": [
    "# ----------------------------------------------------------------------------------\n",
    "# MIT License\n",
    "#\n",
    "# Copyright(c) Microsoft Corporation. All rights reserved.\n",
    "#\n",
    "# Permission is hereby granted, free of charge, to any person obtaining a copy\n",
    "# of this software and associated documentation files (the \"Software\"), to deal\n",
    "# in the Software without restriction, including without limitation the rights\n",
    "# to use, copy, modify, merge, publish, distribute, sublicense, and/or sell\n",
    "# copies of the Software, and to permit persons to whom the Software is\n",
    "# furnished to do so, subject to the following conditions:\n",
    "# ----------------------------------------------------------------------------------\n",
    "# The above copyright notice and this permission notice shall be included in all\n",
    "# copies or substantial portions of the Software.\n",
    "#\n",
    "# THE SOFTWARE IS PROVIDED \"AS IS\", WITHOUT WARRANTY OF ANY KIND, EXPRESS OR\n",
    "# IMPLIED, INCLUDING BUT NOT LIMITED TO THE WARRANTIES OF MERCHANTABILITY,\n",
    "# FITNESS FOR A PARTICULAR PURPOSE AND NONINFRINGEMENT. IN NO EVENT SHALL THE\n",
    "# AUTHORS OR COPYRIGHT HOLDERS BE LIABLE FOR ANY CLAIM, DAMAGES OR OTHER\n",
    "# LIABILITY, WHETHER IN AN ACTION OF CONTRACT, TORT OR OTHERWISE, ARISING FROM,\n",
    "# OUT OF OR IN CONNECTION WITH THE SOFTWARE OR THE USE OR OTHER DEALINGS IN THE\n",
    "# SOFTWARE.\n",
    "\n",
    "\n",
    "\n",
    "import  uuid, sys\n",
    "from azure.storage.blob import BlockBlobService, PublicAccess\n",
    "\n",
    "# ---------------------------------------------------------------------------------------------------------\n",
    "# Method that creates a test file in the 'Documents' folder.\n",
    "# This sample application creates a test file, uploads the test file to the Blob storage,\n",
    "# lists the blobs in the container, and downloads the file with a new name.\n",
    "# ---------------------------------------------------------------------------------------------------------\n",
    "# Documentation References:\n",
    "# Associated Article - https://docs.microsoft.com/en-us/azure/storage/blobs/storage-quickstart-blobs-python\n",
    "# What is a Storage Account - http://azure.microsoft.com/en-us/documentation/articles/storage-whatis-account/\n",
    "# Getting Started with Blobs-https://docs.microsoft.com/en-us/azure/storage/blobs/storage-python-how-to-use-blob-storage\n",
    "# Blob Service Concepts - http://msdn.microsoft.com/en-us/library/dd179376.aspx\n",
    "# Blob Service REST API - http://msdn.microsoft.com/en-us/library/dd135733.aspx\n",
    "# ----------------------------------------------------------------------------------------------------------\n",
    "\n",
    "import os\n",
    "\n",
    "import win32file\n",
    "import win32con\n"
   ]
  },
  {
   "cell_type": "code",
   "execution_count": 16,
   "metadata": {},
   "outputs": [],
   "source": [
    "def run_sample():\n",
    "    try:\n",
    "        # Create the BlockBlockService that is used to call the Blob service for the storage account\n",
    "        block_blob_service = BlockBlobService(account_name='jayasuria217', account_key='wXL7djNzWGUZOG/kwDXkabGDLkQ29Z0eDvNMh/n1eDo61My9HzWh1Ilyi/qzJjFbDTo2lUX1pDgXmZeeOZxa0g==')\n",
    "\n",
    "        # Create a container called 'quickstartblobs'.\n",
    "        container_name ='azureml-blobstore-26dc84d7-bebf-46e7-a16c-adf7ddaade26'\n",
    "\n",
    "\n",
    "\n",
    "        # Create a file in Documents to test the upload and download.\n",
    "        local_path=os.path.abspath(os.path.curdir)\n",
    "        local_file_name = \"./azureml/\"\n",
    "        full_path_to_file =os.path.join(local_path, local_file_name)\n",
    "\n",
    "        # List the blobs in the container\n",
    "        print(\"\\nList blobs in the container\")\n",
    "        generator = block_blob_service.list_blobs(container_name)\n",
    "        for blob in generator:\n",
    "            print(\"\\t Blob name: \" + blob.name)\n",
    "\n",
    "        # Download the blob(s).\n",
    "        # Add '_DOWNLOADED' as prefix to '.txt' so you can see both files in Documents.\n",
    "        print(\"\\nDownloading blob to \" + full_path_to_file)\n",
    "        block_blob_service.get_blob_to_path(container_name, local_file_name, full_path_to_file)\n",
    "\n",
    "        sys.stdout.write(\"Sample finished running. When you hit <any key>, the sample will be deleted and the sample \"\n",
    "                         \"application will exit.\")\n",
    "        sys.stdout.flush()\n",
    "        input()\n",
    "                                    \n",
    "    except Exception as e:\n",
    "        print(e)\n"
   ]
  },
  {
   "cell_type": "code",
   "execution_count": 17,
   "metadata": {},
   "outputs": [
    {
     "name": "stdout",
     "output_type": "stream",
     "text": [
      "\n",
      "List blobs in the container\n"
     ]
    },
    {
     "name": "stderr",
     "output_type": "stream",
     "text": [
      "Client-Request-ID=ce6f50cc-50cc-11ea-9bd3-00155dc66dd3 Retry policy did not allow for a retry: , HTTP status code=Unknown, Exception=HTTPSConnectionPool(host='jayasuria217.blob.core.windows.net', port=443): Max retries exceeded with url: /azureml-blobstore-26dc84d7-bebf-46e7-a16c-adf7ddaade26?restype=container&comp=list (Caused by ConnectTimeoutError(<urllib3.connection.VerifiedHTTPSConnection object at 0x000001765C5329C8>, 'Connection to jayasuria217.blob.core.windows.net timed out. (connect timeout=20)')).\n"
     ]
    },
    {
     "name": "stdout",
     "output_type": "stream",
     "text": [
      "HTTPSConnectionPool(host='jayasuria217.blob.core.windows.net', port=443): Max retries exceeded with url: /azureml-blobstore-26dc84d7-bebf-46e7-a16c-adf7ddaade26?restype=container&comp=list (Caused by ConnectTimeoutError(<urllib3.connection.VerifiedHTTPSConnection object at 0x000001765C5329C8>, 'Connection to jayasuria217.blob.core.windows.net timed out. (connect timeout=20)'))\n"
     ]
    }
   ],
   "source": [
    "run_sample()"
   ]
  },
  {
   "cell_type": "code",
   "execution_count": null,
   "metadata": {},
   "outputs": [],
   "source": []
  }
 ],
 "metadata": {
  "kernelspec": {
   "display_name": "Python 3",
   "language": "python",
   "name": "python3"
  },
  "language_info": {
   "codemirror_mode": {
    "name": "ipython",
    "version": 3
   },
   "file_extension": ".py",
   "mimetype": "text/x-python",
   "name": "python",
   "nbconvert_exporter": "python",
   "pygments_lexer": "ipython3",
   "version": "3.7.4"
  }
 },
 "nbformat": 4,
 "nbformat_minor": 2
}
